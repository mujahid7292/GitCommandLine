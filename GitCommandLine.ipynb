{
 "cells": [
  {
   "cell_type": "markdown",
   "metadata": {},
   "source": [
    "# Git Introduction"
   ]
  },
  {
   "cell_type": "markdown",
   "metadata": {},
   "source": [
    "<ul>\n",
    "    <li>First step is to initialize git in current directory. First got to project directory and type <b>git init</b>.</li>\n",
    "    <li>To see all of the file & folder in the current working directory type <b>ls -la</b>. You will see a folder named “.git”.</li>\n",
    "    <li>If we want to stop tracking this project by git. We will type <b>rm -rf .git</b>. Here rm = remove; rf = reference; .git = folder. This rm -rf FOLDER/FILE is windows command. This command permanently delete file from the machine.</li>\n",
    "    <li>If any point in time we want to see the status, type <b>git status</b>.</li>\n",
    "    <li>Sometimes there is some file in our project which we don’t want to track. For those type of file, we can create “touch .gitignore” file. Inside .gitignore file we will type the name of the file which we don’t want to track, Example: add “GitTutorial.txt” into .gitignore file.</li>\n",
    "    <li>If there is untracked file, we can add those all file to track by <b>git add -A</b>. But if we want to add one file at a time we can by <b>git add calc.py</b>. For files which we cannot add by <b>git add Git Tutorial.docx</b>. We will add those file by <b>git add -A</b>.Reason that we cannot add those file because there is space in the file name. This command will not work git add Git Tutorial.docx, but this one will <b>git add GitTutorial.docx</b>. </li>\n",
    "    <li>If we want to remove everything from our staging area, we can use <b>git reset</b>.</li>\n",
    "    <li>If we want to see the log of the commit, <b>git log</b>.</li>\n",
    "    <li>If we want to clone some repository from the github, type <b>git clone https://github.com/Marjanam/Web-app.git .</b> Here after url dot (<b>.</b>) means we want to clone the project into the current directory.</li>\n",
    "    <li><b>git remote –v</b> using this we can see remote repository information.</li>\n",
    "    <li><b>git branch –a</b> this will show all of the brunch both in local & remote repository.</li>\n",
    "    <li><b>git diff</b>> => we will be able to see line by line change in our code base. If we commit the change, we will not see the diff.</li>\n",
    "    <li>Always run <b>git pull origin master</b> before pushing your code base to remote repository. As we are working on the project & making change, some other folks also working on the other feature of the project. So to avoid conflict we will first pull repository then push. Push command=> <b>git push origin master</b></li>\n",
    "</ul>\n",
    "\n",
    "\n",
    "\n",
    "\n",
    "."
   ]
  },
  {
   "cell_type": "markdown",
   "metadata": {},
   "source": [
    "# Branch"
   ]
  },
  {
   "cell_type": "markdown",
   "metadata": {},
   "source": [
    "<ul>\n",
    "    <li>Create new brunch by <b>git branch calc-divide</b></li>\n",
    "    <li>To see which branch I am in right now type <b>git branch</b></li>\n",
    "    <li>So to move from one branch to another branch type <b>git checkout calc-divide</b></li>\n",
    "    <li>After checking out to calc-divide branch write some code in this branch & commit the change. This commit will have effect only on our local calc-divide branch. But this commit has no effect in our local master branch & no effect on our remote repository.</li>\n",
    "    <li>Now we want to push our local calc-divide branch to remote repository. Command=> <b>git push -u origin calc-divide</b> So what is the use of (-u)? Ans: Basically this -u tells our git that we want to associate local calc-divide branch with our remote calc-divide branch, so that in future in pushing or polling branch from remote we can only type <b>git push</b> & <b>git pull</b> instead of typing the branch name again & again.</li>\n",
    "</ul>"
   ]
  },
  {
   "cell_type": "markdown",
   "metadata": {},
   "source": [
    "# Merge Branch"
   ]
  },
  {
   "cell_type": "markdown",
   "metadata": {},
   "source": [
    "<ul>\n",
    "    <li>We have two branch in our local & remote repository. Those are master & calc-divide. So if we want to merge this two branch together, we will checkout to our master branch in our local repository. Command=> <b>git checkout master</b></li>\n",
    "    <li></li>\n",
    "    <li></li>\n",
    "    <li></li>\n",
    "    <li></li>\n",
    "    <li></li>\n",
    "    <li></li>\n",
    "</ul>"
   ]
  },
  {
   "cell_type": "code",
   "execution_count": null,
   "metadata": {},
   "outputs": [],
   "source": []
  }
 ],
 "metadata": {
  "kernelspec": {
   "display_name": "Python 3",
   "language": "python",
   "name": "python3"
  },
  "language_info": {
   "codemirror_mode": {
    "name": "ipython",
    "version": 3
   },
   "file_extension": ".py",
   "mimetype": "text/x-python",
   "name": "python",
   "nbconvert_exporter": "python",
   "pygments_lexer": "ipython3",
   "version": "3.7.0"
  }
 },
 "nbformat": 4,
 "nbformat_minor": 2
}
