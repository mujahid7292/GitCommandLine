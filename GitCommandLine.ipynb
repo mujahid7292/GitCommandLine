{
 "cells": [
  {
   "cell_type": "markdown",
   "metadata": {},
   "source": [
    "# Git Introduction"
   ]
  },
  {
   "cell_type": "markdown",
   "metadata": {},
   "source": [
    "<ul>\n",
    "    <li>First step is to initialize git in current directory. First got to project directory and type <b>git init</b>.</li>\n",
    "    <li>To see all of the file & folder in the current working directory type <b>ls -la</b>. You will see a folder named “.git”.</li>\n",
    "    <li>If we want to stop tracking this project by git. We will type <b>rm -rf .git</b>. Here rm = remove; rf = reference; .git = folder. This rm -rf FOLDER/FILE is windows command. This command permanently delete file from the machine.</li>\n",
    "    <li>If any point in time we want to see the status, type <b>git status</b>.</li>\n",
    "    <li>Sometimes there is some file in our project which we don’t want to track. For those type of file, we can create “touch .gitignore” file. Inside .gitignore file we will type the name of the file which we don’t want to track, Example: add “GitTutorial.txt” into .gitignore file.</li>\n",
    "    <li>If there is untracked file, we can add those all file to track by <b>git add -A</b>. But if we want to add one file at a time we can by <b>git add calc.py</b>. For files which we cannot add by <b>git add Git Tutorial.docx</b>. We will add those file by <b>git add -A</b>.Reason that we cannot add those file because there is space in the file name. This command will not work git add Git Tutorial.docx, but this one will <b>git add GitTutorial.docx</b>. </li>\n",
    "    <li>If we want to remove everything from our staging area, we can use <b>git reset</b>.</li>\n",
    "    <li>If we want to see the log of the commit, <b>git log</b>.</li>\n",
    "    <li>If we want to clone some repository from the github, type <b>git clone https://github.com/Marjanam/Web-app.git .</b> Here after url dot (<b>.</b>) means we want to clone the project into the current directory.</li>\n",
    "    <li><b>git remote –v</b> using this we can see remote repository information.</li>\n",
    "    <li><b>git branch –a</b> this will show all of the brunch both in local & remote repository.</li>\n",
    "    <li><b>git diff</b>> => we will be able to see line by line change in our code base. If we commit the change, we will not see the diff.</li>\n",
    "    <li>Always run <b>git pull origin master</b> before pushing your code base to remote repository. As we are working on the project & making change, some other folks also working on the other feature of the project. So to avoid conflict we will first pull repository then push. Push command=> <b>git push origin master</b></li>\n",
    "</ul>\n",
    "\n",
    "\n",
    "\n",
    "\n",
    "."
   ]
  },
  {
   "cell_type": "markdown",
   "metadata": {},
   "source": [
    "# Branch"
   ]
  },
  {
   "cell_type": "markdown",
   "metadata": {},
   "source": [
    "<ul>\n",
    "    <li>Create new brunch by <b>git branch calc-divide</b></li>\n",
    "    <li>To see which branch I am in right now type <b>git branch</b></li>\n",
    "    <li>So to move from one branch to another branch type <b>git checkout calc-divide</b></li>\n",
    "    <li>After checking out to calc-divide branch write some code in this branch & commit the change. This commit will have effect only on our local calc-divide branch. But this commit has no effect in our local master branch & no effect on our remote repository.</li>\n",
    "    <li>Now we want to push our local calc-divide branch to remote repository. Command=> <b>git push -u origin calc-divide</b> So what is the use of (-u)? Ans: Basically this -u tells our git that we want to associate local calc-divide branch with our remote calc-divide branch, so that in future in pushing or polling branch from remote we can only type <b>git push</b> & <b>git pull</b> instead of typing the branch name again & again.</li>\n",
    "</ul>"
   ]
  },
  {
   "cell_type": "markdown",
   "metadata": {},
   "source": [
    "# Merge Branch"
   ]
  },
  {
   "cell_type": "markdown",
   "metadata": {},
   "source": [
    "<ul>\n",
    "    <li>We have two branch in our local & remote repository. Those are master & calc-divide. So if we want to merge this two branch together, we will checkout to our master branch in our local repository. Command=> <b>git checkout master</b></li>\n",
    "    <li>Before merging two branch together we would pull out everything from remote repository. While we are making change in our own machine some other developer also making change to remote repository. So to avoid any conflict we will run command=> <b>git pull origin master</b></li>\n",
    "    <li>If we want to see all of the branches we have merged so far. We will run command => <b>git branch --merged</b> We will see only master branch. That means calc-divide branch did not merge with master branch yet.</li>\n",
    "    <li>To merge calc-divide branch with master branch we will run this command in our machine => <b>git merge calc-divide</b></li>\n",
    "    <li>Now that we have merged our cal-divide branch with master branch, now we will push our local master branch to remote master branch. Command=> <b> git push origin master</b></li>\n",
    "</ul>"
   ]
  },
  {
   "cell_type": "markdown",
   "metadata": {},
   "source": [
    "# Deleting A Branch"
   ]
  },
  {
   "cell_type": "markdown",
   "metadata": {},
   "source": [
    "<ul>\n",
    "    <li>Now we will check whether our calc-divide branch has been merged with master branch by typing => <b>git branch --merged</b> . We will see both calc-divide and master branch is in there.</li>\n",
    "    <li>As calc-divide & master branch has been successfully merged, now we can go delete that unnecessary calc-divide branch from our local repository. Command=> <b>git branch -d calc-divide</b></li>\n",
    "    <li>Now if we run <b>git branch -a</b> . We will find out that there is calc-divide branch in our remote repository.</li>\n",
    "    <li>So to delete remote calc-divide branch we will run => <b>git push origin --delete calc-divide</b></li>\n",
    "   \n",
    "</ul>"
   ]
  },
  {
   "cell_type": "markdown",
   "metadata": {},
   "source": [
    "# Fixing Common Mistakes and Undoing Bad Commits"
   ]
  },
  {
   "cell_type": "markdown",
   "metadata": {},
   "source": [
    "### Mistake-1: Make some change in the file. Later found that no need that change. How to get back to state before change happen?"
   ]
  },
  {
   "cell_type": "markdown",
   "metadata": {},
   "source": [
    " <ul>\n",
    "    <li>Write same jebris in our calc.py file.</li>\n",
    "    <li>This solution will work, when we did not add our modified calc.py file into staging area by <b>git add -A | git add calc.py</b> or commit any change <b>git commit -m \"\"</b>.</li>\n",
    "    <li>Now checkout calc.py file <b>git checkout calc.py</b></li>\n",
    "    <li>See the calc.py file our written jebris is gone.</li>\n",
    "    <li>We can confirm that our jebris is gone by <b>git status</b> & <b>git diff</b></li>\n",
    "</ul>"
   ]
  },
  {
   "cell_type": "markdown",
   "metadata": {},
   "source": [
    "# Mistake-2: Wrong commit meassage."
   ]
  },
  {
   "cell_type": "markdown",
   "metadata": {},
   "source": [
    "<ul>\n",
    "    <li>Lets say we have added addition feature in our calc.py file.</li>\n",
    "    <li>Now we will commit this change by adding modified calc.py file in staging area=> <b>git add -A</b> & then commit those file=><b>git commit -m \"Subtract Feature Added\"</b></li>\n",
    "    <li>Now if we run=> <b>git log</b> we will see that our commit message was wrong.</li>\n",
    "    <li>How would we only modify this commit meassage without new commit? We will be able to amend our previous commit message by=> <b>git commit --amend -m \"Addition Feature Added\"</b></li>\n",
    "    <li>if we now run=> <b>git log</b> we will see that our lattest commit message has been change & also lattest commit hash has been changed <b>commit bda8e52efdcd182888f4cb2932ef19842212974e </b>. So this type of commit will change the git history. So if i am the only user of this repository or i did not push this commit to remote repository yet, then this types of solution should use. Otherwise it will corrupt other developer history. </li>\n",
    "</ul>"
   ]
  },
  {
   "cell_type": "markdown",
   "metadata": {},
   "source": [
    "# Mistake-3: Accidently Left of A file To Commit"
   ]
  },
  {
   "cell_type": "markdown",
   "metadata": {},
   "source": [
    "<ul>\n",
    "    <li>Lets say we have forgot to add .gitignore file with our last commit \"Addition Feature Added\". Now we want to add this .gitignore file with our last commit. How will we do that?</li>\n",
    "    <li>Lets first create .gitignore file with command=> <b>touch .gitignore</b></li>\n",
    "    <li>Now add this .gitignore file into staging area. Command=> <b>git add .gitignore</b></li>\n",
    "    <li>Now we will not do any new commit now. We want to add this file with our last commit. So we will amend our last commit. Command=> <b>git commit --amend</b> It will open up interactive editor (in my pc default editor is atom) where we can amend our previous commit. Here we will see that git already added \"new file:   .gitignore\" this line. So we don't need to do anything. Close and save the file.</li>\n",
    "    <li>Now we will check whether our .gitignore file has been added with our last commit. For this we will run command => <b>git log --stat</b> Now we will see that .gitignore file is the part of our last commit. Caution: Our commit hash has been changed, that means we changed our history. So if we already push that commit to repository, then other developer's machine history will be in problem.</li>\n",
    "</ul>"
   ]
  },
  {
   "cell_type": "markdown",
   "metadata": {},
   "source": [
    "# Mistake-4: Commiting on wrong branch."
   ]
  },
  {
   "cell_type": "markdown",
   "metadata": {},
   "source": [
    "<ul>\n",
    "    <li>Lets say we should commit to subtract-feature branch. But accidently we are commiting all of the work in master branch.</li>\n",
    "    <li>Now our goal is to move this commit \"Subtract Feature Added\" to subtract-feature branch & return our master branch to \"Addition Feature Added\" commit state. The way we are going to accomplish our goal is to by the method git cherry-pick.</li>\n",
    "    <li>The process of the cherypick start with the running command=> <b>git log</b> on our master branch | From here we will get the \"Subtract Feature Added\" commits hash. Select upto 6-7 letter of the commit's hash no need to select the whole hash & copy. Now swithch to subtract-feture branch. From subtract-feature branch if we run <b>git log</b> we will not see our \"Subtract Feature Added\" commit's. Now we will run=> <b>git cherry-pick b06fc5d49</b> in our subtract-feature branch. Now if we run <b>git log</b> again in pur subtract-feature branch, we will see that we have brought \"Subtract Feature Added\" commit to subtract-feature branch from the master branch. But this commit still exist in our master branch because cherry-pick does not delete commit.</li>\n",
    "    <li>To delete \"Subtract Feature Added\" commit from our master branch we will use git reset method. Now checkout to master branch. Command=> <b>git checkout master</b> .</li>\n",
    "    <li>There are three types of git reset. Those are: \n",
    "        <ol>\n",
    "            <li><b>git reset soft:</b> To run soft reset command=> <b>git reset --soft 4f4cb849f</b> | This hash 4f4cb849f is the previous \"Addition Feature Added\" commit's hash, as we want our master branch to go back that stage. After runnig soft reset, run=> <b>git log</b> | We will see that we have successfully deleted \"Subtract Feature Added\" commit from our master branch. But if we run=> <b>git status</b> in our master branch we will see that all of the work which we had commited in \"Subtract Feature Added\" commit are staying now in the staging area. So if we run any commit from this point of time those work will again be added in our master branch. We don't want that.</li>\n",
    "            <li><b>git reset mixed:</b> As mixed is the default reset we don't have to specify mixed in our command. So now run=> <b>git reset 4f4cb849f</b> | After that run=> <b>git status</b> | We will see that all of the work of our \"Subtract Feature Added\" commit has been removed from the staging area. But if we run=> <b>git add -A</b> all of the work then again come in the staging area. But we don't want any subtract feature in our master branch.</li>\n",
    "            <li><b>git reset hard:</b> git reset hard is going to make all of our tracked file match the state they were in at the hash we specify. Now run=> <b>git reset --hard 4f4cb849f</b> If we run  <b>git status</b> We will get the message \"nothing to commit, working tree clean\". So we have successfully deleted subtract feature from the master branch's commit area, staging area & finally from tracked file area. git reset hard will revert all of the tracked file back to the state they were, but will not affect any untracked file. So to remove untracked file run=> <b>git clean -df</b> Here \"d\" get rid of any untracked directory & \"f\" get rid of any untracked file.</li>\n",
    "        </ol>\n",
    "    </li>\n",
    "</ul>"
   ]
  },
  {
   "cell_type": "code",
   "execution_count": null,
   "metadata": {},
   "outputs": [],
   "source": []
  },
  {
   "cell_type": "markdown",
   "metadata": {},
   "source": [
    "<ul>\n",
    "    <li></li>\n",
    "</ul>"
   ]
  },
  {
   "cell_type": "code",
   "execution_count": null,
   "metadata": {},
   "outputs": [],
   "source": []
  }
 ],
 "metadata": {
  "kernelspec": {
   "display_name": "Python 3",
   "language": "python",
   "name": "python3"
  },
  "language_info": {
   "codemirror_mode": {
    "name": "ipython",
    "version": 3
   },
   "file_extension": ".py",
   "mimetype": "text/x-python",
   "name": "python",
   "nbconvert_exporter": "python",
   "pygments_lexer": "ipython3",
   "version": "3.7.0"
  }
 },
 "nbformat": 4,
 "nbformat_minor": 2
}
